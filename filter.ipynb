{
 "cells": [
  {
   "cell_type": "code",
   "execution_count": 2,
   "metadata": {},
   "outputs": [],
   "source": [
    "import pandas as pd"
   ]
  },
  {
   "cell_type": "code",
   "execution_count": 2,
   "metadata": {},
   "outputs": [],
   "source": [
    "df = pd.read_csv('Crimes.csv')\n",
    "small_df = df[[\"Case Number\", \"Date\", \"Primary Type\", \"Description\", \"Location Description\", \"Arrest\", \"Year\", \"Community Area\", \"Latitude\", \"Longitude\"]]\n",
    "small_df = small_df[small_df['Year'] == 2019]"
   ]
  },
  {
   "cell_type": "code",
   "execution_count": 3,
   "metadata": {},
   "outputs": [],
   "source": [
    "# filter data\n",
    "def filter_location(df):\n",
    "    df = df[df['Latitude'].notna() & df['Longitude'].notna()]\n",
    "    df = df[(df['Latitude'] > 40.6) & (df['Latitude'] < 42.6) & \\\n",
    "         (df['Longitude'] > -88.6) & (df['Longitude'] < -85.6)]\n",
    "    return df\n",
    "def filter_location_desc(df):\n",
    "    df = df[df['Location Description'].notna()]\n",
    "    return df\n",
    "small_df = filter_location(small_df)\n",
    "# small_df = filter_location_desc(df)"
   ]
  },
  {
   "cell_type": "code",
   "execution_count": 6,
   "metadata": {},
   "outputs": [
    {
     "ename": "NameError",
     "evalue": "name 'small_df' is not defined",
     "output_type": "error",
     "traceback": [
      "\u001b[0;31m---------------------------------------------------------------------------\u001b[0m",
      "\u001b[0;31mNameError\u001b[0m                                 Traceback (most recent call last)",
      "\u001b[0;32m<ipython-input-6-a0a6ffe41f76>\u001b[0m in \u001b[0;36m<module>\u001b[0;34m\u001b[0m\n\u001b[0;32m----> 1\u001b[0;31m \u001b[0msmall_df\u001b[0m\u001b[0;34m.\u001b[0m\u001b[0mto_csv\u001b[0m\u001b[0;34m(\u001b[0m\u001b[0;34m\"small.csv\"\u001b[0m\u001b[0;34m,\u001b[0m \u001b[0mindex\u001b[0m\u001b[0;34m=\u001b[0m\u001b[0;32mFalse\u001b[0m\u001b[0;34m)\u001b[0m\u001b[0;34m\u001b[0m\u001b[0;34m\u001b[0m\u001b[0m\n\u001b[0m",
      "\u001b[0;31mNameError\u001b[0m: name 'small_df' is not defined"
     ]
    }
   ],
   "source": [
    "small_df.to_csv(\"small.csv\", index=False)"
   ]
  },
  {
   "cell_type": "code",
   "execution_count": 17,
   "metadata": {},
   "outputs": [],
   "source": [
    "filter_df = pd.read_csv('Crimes_2019.csv')\n",
    "filter_df['Date'] = pd.to_datetime(filter_df['Date'])"
   ]
  },
  {
   "cell_type": "code",
   "execution_count": 20,
   "metadata": {},
   "outputs": [],
   "source": [
    "new_df = filter_df[filter_df['Date'] < pd.Timestamp('2019-03-30')]\n",
    "new_df =  new_df[[\"Date\", \"Primary Type\", \"Location Description\", \"Arrest\", \"Community Area\", \"Latitude\", \"Longitude\"]]"
   ]
  },
  {
   "cell_type": "code",
   "execution_count": 22,
   "metadata": {},
   "outputs": [],
   "source": [
    "def filter_crime(df, field, min_count):\n",
    "    return df.groupby(field).filter(lambda x: len(x) > min_count)\n",
    "\n",
    "new_df = filter_crime(new_df, \"Primary Type\", 1000)\n",
    "new_df = filter_crime(new_df, \"Location Description\", 1000)"
   ]
  },
  {
   "cell_type": "code",
   "execution_count": 24,
   "metadata": {},
   "outputs": [],
   "source": [
    "new_df.to_csv(\"Crimes_2019_Jan.csv\", index=False)"
   ]
  },
  {
   "cell_type": "code",
   "execution_count": null,
   "metadata": {},
   "outputs": [],
   "source": []
  }
 ],
 "metadata": {
  "kernelspec": {
   "display_name": "Python 3",
   "language": "python",
   "name": "python3"
  },
  "language_info": {
   "codemirror_mode": {
    "name": "ipython",
    "version": 3
   },
   "file_extension": ".py",
   "mimetype": "text/x-python",
   "name": "python",
   "nbconvert_exporter": "python",
   "pygments_lexer": "ipython3",
   "version": "3.7.9"
  }
 },
 "nbformat": 4,
 "nbformat_minor": 4
}
