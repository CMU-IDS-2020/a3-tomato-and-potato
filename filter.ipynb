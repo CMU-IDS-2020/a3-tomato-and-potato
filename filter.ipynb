{
 "cells": [
  {
   "cell_type": "code",
   "execution_count": 1,
   "metadata": {},
   "outputs": [],
   "source": [
    "import pandas as pd"
   ]
  },
  {
   "cell_type": "code",
   "execution_count": 2,
   "metadata": {},
   "outputs": [],
   "source": [
    "df = pd.read_csv('Crimes.csv')\n",
    "small_df = df[[\"Case Number\", \"Date\", \"Primary Type\", \"Description\", \"Location Description\", \"Arrest\", \"Year\", \"Community Area\", \"Latitude\", \"Longitude\"]]\n",
    "small_df = small_df[small_df['Year'] == 2019]"
   ]
  },
  {
   "cell_type": "code",
   "execution_count": 3,
   "metadata": {},
   "outputs": [],
   "source": [
    "# filter data\n",
    "def filter_location(df):\n",
    "    df = df[df['Latitude'].notna() & df['Longitude'].notna()]\n",
    "    df = df[(df['Latitude'] > 40.6) & (df['Latitude'] < 42.6) & \\\n",
    "         (df['Longitude'] > -88.6) & (df['Longitude'] < -85.6)]\n",
    "    return df\n",
    "def filter_location_desc(df):\n",
    "    df = df[df['Location Description'].notna()]\n",
    "    return df\n",
    "small_df = filter_location(small_df)\n",
    "# small_df = filter_location_desc(df)"
   ]
  },
  {
   "cell_type": "code",
   "execution_count": 4,
   "metadata": {},
   "outputs": [],
   "source": [
    "small_df.to_csv(\"small.csv\", index=False)"
   ]
  }
 ],
 "metadata": {
  "kernelspec": {
   "display_name": "Python 3",
   "language": "python",
   "name": "python3"
  },
  "language_info": {
   "codemirror_mode": {
    "name": "ipython",
    "version": 3
   },
   "file_extension": ".py",
   "mimetype": "text/x-python",
   "name": "python",
   "nbconvert_exporter": "python",
   "pygments_lexer": "ipython3",
   "version": "3.6.9"
  }
 },
 "nbformat": 4,
 "nbformat_minor": 4
}
