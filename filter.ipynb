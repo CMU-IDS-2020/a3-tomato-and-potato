{
 "cells": [
  {
   "cell_type": "code",
   "execution_count": 1,
   "metadata": {},
   "outputs": [],
   "source": [
    "import pandas as pd"
   ]
  },
  {
   "cell_type": "code",
   "execution_count": 2,
   "metadata": {},
   "outputs": [],
   "source": [
    "df = pd.read_csv('Crimes.csv')"
   ]
  },
  {
   "cell_type": "code",
   "execution_count": 3,
   "metadata": {},
   "outputs": [],
   "source": [
    "small_df = df[[\"Case Number\", \"Date\", \"Primary Type\", \"Description\", \"Location Description\", \"Arrest\", \"Year\", \"Community Area\", \"Latitude\", \"Longitude\"]]\n",
    "small_df = small_df[small_df['Year'] == 2019]\n",
    "# filter data\n",
    "def filter_location(df):\n",
    "    df = df[df['Latitude'].notna() & df['Longitude'].notna()]\n",
    "    df = df[(df['Latitude'] > 40.6) & (df['Latitude'] < 42.6) & \\\n",
    "         (df['Longitude'] > -88.6) & (df['Longitude'] < -85.6)]\n",
    "    return df\n",
    "def filter_location_desc(df):\n",
    "    df = df[df['Location Description'].notna()]\n",
    "    return df\n",
    "small_df = filter_location(small_df)\n",
    "small_df = filter_location_desc(small_df)"
   ]
  },
  {
   "cell_type": "code",
   "execution_count": 6,
   "metadata": {},
   "outputs": [],
   "source": [
    "new_df = small_df[[\"Date\", \"Primary Type\", \"Location Description\", \"Arrest\", \"Community Area\"]]"
   ]
  },
  {
   "cell_type": "code",
   "execution_count": 8,
   "metadata": {},
   "outputs": [],
   "source": [
    "topnum=10\n",
    "top_type = new_df.groupby('Primary Type').size().to_frame('Case Count').reset_index().sort_values('Case Count', ascending=False).head(topnum)['Primary Type'].values.tolist()\n",
    "top_loc = new_df.groupby('Location Description').size().to_frame('Case Count').reset_index().sort_values('Case Count', ascending=False).head(topnum)['Location Description'].values.tolist()\n",
    "# top_type, top_loc"
   ]
  },
  {
   "cell_type": "code",
   "execution_count": 9,
   "metadata": {},
   "outputs": [],
   "source": [
    "def change_type(row):\n",
    "    if row['Primary Type'] not in top_type:\n",
    "        return 'OTHERS'\n",
    "    return row['Primary Type']\n",
    "new_type = new_df.apply(lambda row: change_type(row), axis=1)\n",
    "def change_loc(row):\n",
    "    if row['Location Description'] not in top_loc:\n",
    "        return 'OTHERS'\n",
    "    return row['Location Description']\n",
    "new_loc = new_df.apply(lambda row: change_loc(row), axis=1)"
   ]
  },
  {
   "cell_type": "code",
   "execution_count": 10,
   "metadata": {},
   "outputs": [
    {
     "name": "stderr",
     "output_type": "stream",
     "text": [
      "/mnt/c/Users/Tong/Documents/Study/05839 Interactive Data Science/hw/hw3/a3-tomato-and-potato/lib/python3.6/site-packages/ipykernel_launcher.py:1: SettingWithCopyWarning: \n",
      "A value is trying to be set on a copy of a slice from a DataFrame.\n",
      "Try using .loc[row_indexer,col_indexer] = value instead\n",
      "\n",
      "See the caveats in the documentation: https://pandas.pydata.org/pandas-docs/stable/user_guide/indexing.html#returning-a-view-versus-a-copy\n",
      "  \"\"\"Entry point for launching an IPython kernel.\n",
      "/mnt/c/Users/Tong/Documents/Study/05839 Interactive Data Science/hw/hw3/a3-tomato-and-potato/lib/python3.6/site-packages/ipykernel_launcher.py:2: SettingWithCopyWarning: \n",
      "A value is trying to be set on a copy of a slice from a DataFrame.\n",
      "Try using .loc[row_indexer,col_indexer] = value instead\n",
      "\n",
      "See the caveats in the documentation: https://pandas.pydata.org/pandas-docs/stable/user_guide/indexing.html#returning-a-view-versus-a-copy\n",
      "  \n"
     ]
    }
   ],
   "source": [
    "new_df['Primary Type'] = new_type.values\n",
    "new_df['Location Description'] = new_loc.values"
   ]
  },
  {
   "cell_type": "code",
   "execution_count": 11,
   "metadata": {},
   "outputs": [
    {
     "name": "stderr",
     "output_type": "stream",
     "text": [
      "/mnt/c/Users/Tong/Documents/Study/05839 Interactive Data Science/hw/hw3/a3-tomato-and-potato/lib/python3.6/site-packages/ipykernel_launcher.py:1: SettingWithCopyWarning: \n",
      "A value is trying to be set on a copy of a slice from a DataFrame.\n",
      "Try using .loc[row_indexer,col_indexer] = value instead\n",
      "\n",
      "See the caveats in the documentation: https://pandas.pydata.org/pandas-docs/stable/user_guide/indexing.html#returning-a-view-versus-a-copy\n",
      "  \"\"\"Entry point for launching an IPython kernel.\n"
     ]
    },
    {
     "data": {
      "text/html": [
       "<div>\n",
       "<style scoped>\n",
       "    .dataframe tbody tr th:only-of-type {\n",
       "        vertical-align: middle;\n",
       "    }\n",
       "\n",
       "    .dataframe tbody tr th {\n",
       "        vertical-align: top;\n",
       "    }\n",
       "\n",
       "    .dataframe thead th {\n",
       "        text-align: right;\n",
       "    }\n",
       "</style>\n",
       "<table border=\"1\" class=\"dataframe\">\n",
       "  <thead>\n",
       "    <tr style=\"text-align: right;\">\n",
       "      <th></th>\n",
       "      <th>Date</th>\n",
       "      <th>Primary Type</th>\n",
       "      <th>Location Description</th>\n",
       "      <th>Arrest</th>\n",
       "      <th>Community Area</th>\n",
       "    </tr>\n",
       "  </thead>\n",
       "  <tbody>\n",
       "    <tr>\n",
       "      <th>450191</th>\n",
       "      <td>2019-01-01</td>\n",
       "      <td>OTHERS</td>\n",
       "      <td>RESIDENCE</td>\n",
       "      <td>False</td>\n",
       "      <td>23</td>\n",
       "    </tr>\n",
       "    <tr>\n",
       "      <th>450192</th>\n",
       "      <td>2019-01-01</td>\n",
       "      <td>OTHERS</td>\n",
       "      <td>APARTMENT</td>\n",
       "      <td>False</td>\n",
       "      <td>31</td>\n",
       "    </tr>\n",
       "    <tr>\n",
       "      <th>450193</th>\n",
       "      <td>2019-01-01</td>\n",
       "      <td>DECEPTIVE PRACTICE</td>\n",
       "      <td>APARTMENT</td>\n",
       "      <td>False</td>\n",
       "      <td>18</td>\n",
       "    </tr>\n",
       "    <tr>\n",
       "      <th>450194</th>\n",
       "      <td>2019-01-01</td>\n",
       "      <td>DECEPTIVE PRACTICE</td>\n",
       "      <td>APARTMENT</td>\n",
       "      <td>False</td>\n",
       "      <td>25</td>\n",
       "    </tr>\n",
       "    <tr>\n",
       "      <th>450195</th>\n",
       "      <td>2019-01-01</td>\n",
       "      <td>DECEPTIVE PRACTICE</td>\n",
       "      <td>STREET</td>\n",
       "      <td>False</td>\n",
       "      <td>5</td>\n",
       "    </tr>\n",
       "  </tbody>\n",
       "</table>\n",
       "</div>"
      ],
      "text/plain": [
       "             Date        Primary Type Location Description  Arrest  \\\n",
       "450191 2019-01-01              OTHERS            RESIDENCE   False   \n",
       "450192 2019-01-01              OTHERS            APARTMENT   False   \n",
       "450193 2019-01-01  DECEPTIVE PRACTICE            APARTMENT   False   \n",
       "450194 2019-01-01  DECEPTIVE PRACTICE            APARTMENT   False   \n",
       "450195 2019-01-01  DECEPTIVE PRACTICE               STREET   False   \n",
       "\n",
       "        Community Area  \n",
       "450191              23  \n",
       "450192              31  \n",
       "450193              18  \n",
       "450194              25  \n",
       "450195               5  "
      ]
     },
     "execution_count": 11,
     "metadata": {},
     "output_type": "execute_result"
    }
   ],
   "source": [
    "new_df['Date'] = pd.to_datetime(new_df['Date'])\n",
    "new_df"
   ]
  },
  {
   "cell_type": "code",
   "execution_count": 13,
   "metadata": {},
   "outputs": [],
   "source": [
    "new_df.to_csv(\"Crimes_2019.csv\", index=False)"
   ]
  },
  {
   "cell_type": "code",
   "execution_count": 20,
   "metadata": {},
   "outputs": [],
   "source": [
    "# new_df = filter_df[filter_df['Date'] < pd.Timestamp('2019-03-30')]\n",
    "# new_df =  new_df[[\"Date\", \"Primary Type\", \"Location Description\", \"Arrest\", \"Community Area\", \"Latitude\", \"Longitude\"]]"
   ]
  },
  {
   "cell_type": "code",
   "execution_count": 22,
   "metadata": {},
   "outputs": [],
   "source": [
    "# def filter_crime(df, field, min_count):\n",
    "#     return df.groupby(field).filter(lambda x: len(x) > min_count)\n",
    "\n",
    "# new_df = filter_crime(new_df, \"Primary Type\", 1000)\n",
    "# new_df = filter_crime(new_df, \"Location Description\", 1000)"
   ]
  },
  {
   "cell_type": "code",
   "execution_count": 24,
   "metadata": {},
   "outputs": [],
   "source": [
    "# new_df.to_csv(\"Crimes_2019_Jan.csv\", index=False)"
   ]
  }
 ],
 "metadata": {
  "kernelspec": {
   "display_name": "Python 3",
   "language": "python",
   "name": "python3"
  },
  "language_info": {
   "codemirror_mode": {
    "name": "ipython",
    "version": 3
   },
   "file_extension": ".py",
   "mimetype": "text/x-python",
   "name": "python",
   "nbconvert_exporter": "python",
   "pygments_lexer": "ipython3",
   "version": "3.6.9"
  }
 },
 "nbformat": 4,
 "nbformat_minor": 4
}
